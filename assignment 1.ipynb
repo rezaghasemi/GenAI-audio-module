{
  "cells": [
    {
      "cell_type": "markdown",
      "metadata": {
        "id": "OUx00NGIJ2LN"
      },
      "source": [
        "#**WaveNet Explained**\n",
        "\n",
        "\n",
        "---\n",
        "\n",
        "\n",
        "WaveNet is a deep neural network model for generating raw audio waveforms. It's a generative model, meaning it can create new audio from scratch. Key features of WaveNet include:\n",
        "\n",
        "- Dilated Causal Convolutions: These allow the model to have a large receptive field (the portion of the input it considers for each output) without using pooling layers, which can reduce temporal resolution. The convolutions are causal, meaning the prediction at a given time step only depends on previous time steps, making it suitable for autoregressive generation.\n",
        "- Autoregressive Generation: WaveNet generates audio sample by sample, predicting the probability distribution for the next audio sample based on the previous samples.\n",
        "- Skip Connections: These help to speed up training and allow gradients to flow more easily through the network.\n",
        "Gated Activation Units: Similar to gates in LSTMs, these help the model to control the flow of information.\n",
        "- µ-law Companding: This is a non-linear quantization technique used to represent the audio signal with fewer bits while preserving perceptual quality.\n",
        "\n",
        "In this assignment, we will implement a simplified version of the WaveNet architecture for autoregressive audio generation. Note that training the full model requires a significant amount of computational resources. If you are interested, you can explore the following GitHub repository, which provides a complete implementation. You can download it and train it locally, as training on the free tier of Colab is not practical.\n",
        "\n",
        "https://github.com/ibab/tensorflow-wavenet\n",
        "\n"
      ]
    },
    {
      "cell_type": "markdown",
      "metadata": {
        "id": "V1ftC-lRMJqJ"
      },
      "source": [
        "##Importing required libraries\n",
        "\n",
        "The first step is to import the required libraries."
      ]
    },
    {
      "cell_type": "code",
      "execution_count": null,
      "metadata": {
        "id": "KnQM7Crg0Okr"
      },
      "outputs": [],
      "source": [
        "# ---------------------------\n",
        "# Import required libraries\n",
        "# ---------------------------\n",
        "\"\"\"\n",
        "    If you are training locally, or if Google Colab does not recognize any library, you can install it using the following commands:\n",
        "\n",
        "    In google colab:\n",
        "    !pip install library_name\n",
        "\n",
        "    In your pc:\n",
        "    pip install library_name\n",
        "\"\"\"\n",
        "\n",
        "\n",
        "import os\n",
        "import tarfile\n",
        "import urllib.request\n",
        "import numpy as np\n",
        "import librosa\n",
        "import soundfile as sf\n",
        "import tensorflow as tf\n",
        "from tensorflow.keras.layers import Input, Conv1D, Add, Activation, Multiply, ReLU\n",
        "from tensorflow.keras.models import Model\n",
        "from tensorflow.keras.losses import SparseCategoricalCrossentropy\n",
        "from tensorflow.keras.optimizers import Adam\n",
        "\n",
        "from tensorflow.keras.callbacks import Callback\n",
        "import matplotlib.pyplot as plt\n",
        "from IPython.display import clear_output\n",
        "from tqdm import tqdm\n",
        "\n",
        "import random"
      ]
    },
    {
      "cell_type": "markdown",
      "metadata": {
        "id": "PWBIfp82OwXO"
      },
      "source": [
        "## Setting parameters\n"
      ]
    },
    {
      "cell_type": "code",
      "execution_count": 1,
      "metadata": {
        "id": "7QZg0Hbs0UMV"
      },
      "outputs": [],
      "source": [
        "# ---------------------------\n",
        "# Parameters\n",
        "# ---------------------------\n",
        "SAMPLE_RATE = 16000\n",
        "DATA_PATH = './'\n",
        "AUDIO_DIR = './wavs'\n",
        "DOWNLOAD_URL = 'http://data.keithito.com/data/speech/LJSpeech-1.1.tar.bz2'\n",
        "TRAIN_SPLIT = 0.8\n",
        "EPOCHS = 100\n",
        "BATCH_SIZE = 32\n",
        "NUM_QUANTIZATION_BINS = 256\n",
        "DILATIONS = (1, 2, 4, 8, 16, 32)\n",
        "RESIDUAL_CHANNELS = 64\n",
        "SKIP_CHANNELS = 128\n",
        "KERNEL_SIZE = 2\n"
      ]
    },
    {
      "cell_type": "markdown",
      "metadata": {
        "id": "cM9YRalsMEBG"
      },
      "source": [
        "## Downloading dataset for training\n"
      ]
    },
    {
      "cell_type": "code",
      "execution_count": null,
      "metadata": {
        "collapsed": true,
        "id": "Ka8Y9Nfr0XY9"
      },
      "outputs": [
        {
          "name": "stdout",
          "output_type": "stream",
          "text": [
            "zsh:1: command not found: wget\n"
          ]
        }
      ],
      "source": [
        "# ---------------------------\n",
        "# Download and extract LJSpeech-1.1 dataset\n",
        "# ---------------------------\n",
        "# print(f\"Downloading {DOWNLOAD_URL}...\")\n",
        "# urllib.request.urlretrieve(DOWNLOAD_URL, os.path.join(DATA_PATH, 'LJSpeech-1.1.tar.bz2'))\n",
        "# print(\"Download completed.\")\n",
        "# print(\"Extracting...\")\n",
        "# with tarfile.open(os.path.join(DATA_PATH, 'LJSpeech-1.1.tar.bz2'), 'r:bz2') as tar:\n",
        "#     tar.extractall(DATA_PATH)\n",
        "# !mv ./LJSpeech-1.1/wavs ./wavs\n",
        "# !rm -rf ./LJSpeech-1.1 LJSpeech-1.1.tar.bz2\n",
        "# print(\"Extraction completed.\")\n",
        "\n",
        "# Download a small chunk of daLJSpeech-1.1 data\n",
        "# print(f\"Downloading {DOWNLOAD_URL}...\")\n",
        "# !wget https://github.com/rezaghasemi/GenAI-audio-module/raw/refs/heads/main/wavs.zip -O wavs.zip\n",
        "# print(\"Download completed.\")\n",
        "# print(\"Extracting...\")\n",
        "# Step 2: Unzip it\n",
        "# !unzip -q wavs.zip\n",
        "# !rm wavs.zip\n",
        "# print(\"Extraction completed.\")"
      ]
    },
    {
      "cell_type": "markdown",
      "metadata": {
        "id": "HHTWWkkws8Hg"
      },
      "source": [
        "## μ-law Encoding and Decoding\n",
        "\n",
        "μ-law encoding is a non-linear quantization technique used in digital telecommunication systems to compress analog signals, such as audio, before digitization. It's particularly useful for voice signals, where smaller amplitude values are more common than larger ones.\n",
        "\n",
        "The key idea behind μ-law encoding is to apply a logarithmic compression to the signal. This gives finer resolution to smaller signals and coarser resolution to larger signals. This non-linear mapping allows a signal with a wide dynamic range to be effectively represented with a smaller number of bits, thus reducing the bandwidth required for transmission or storage."
      ]
    },
    {
      "cell_type": "code",
      "execution_count": null,
      "metadata": {
        "id": "AUVf8oXX0eaR"
      },
      "outputs": [],
      "source": [
        "# ---------------------------\n",
        "# µ-law encode / decode\n",
        "# ---------------------------\n",
        "def mu_law_encode(audio, quantization_channels=256):\n",
        "    mu = quantization_channels - 1\n",
        "    audio = np.clip(audio, -1.0, 1.0)\n",
        "    encoded = np.sign(audio) * np.log1p(mu * np.abs(audio)) / np.log1p(mu)\n",
        "    return ((encoded + 1) / 2 * mu).astype(np.int32)\n",
        "\n",
        "def mu_law_decode(encoded, quantization_channels=256):\n",
        "    mu = quantization_channels - 1\n",
        "    y = encoded.astype(np.float32)\n",
        "    y = 2 * (y / mu) - 1\n",
        "    return np.sign(y) * (1 / mu) * ((1 + mu) ** np.abs(y) - 1)"
      ]
    },
    {
      "cell_type": "markdown",
      "metadata": {
        "id": "U7IfXNmvteFG"
      },
      "source": [
        "## WaveNet Architecture Explanation\n",
        "\n",
        "The core idea of WaveNet is to use a stack of **dilated causal convolutions** to increase the receptive field of the network without increasing the number of layers proportionally. This allows the model to capture long-range dependencies in the audio signal efficiently.\n",
        "\n",
        "Here's a breakdown of the key components and how they work together in the provided simplified WaveNet architecture:\n",
        "\n",
        "1.  **Input Layer**: The model takes a 1D input representing the audio signal. Since it's an autoregressive model, at inference time, the input will be a sequence of previous audio samples. The input shape is `(receptive_field, 1)`, where `receptive_field` is the number of previous samples the model considers to predict the next one.\n",
        "\n",
        "2.  **Initial Causal Convolution**: A `Conv1D` layer with `kernel_size=1` and `padding='causal'` is applied to the input. The causal padding ensures that the output at a given time step only depends on the current and previous time steps. This initial convolution prepares the input for the subsequent dilated convolutional layers.\n",
        "\n",
        "3.  **Dilated Causal Convolutional Blocks**: The main building blocks of the network are the dilated causal convolutional layers. These layers are stacked with increasing dilation rates (`DILATIONS`).\n",
        "    *   **Dilated Convolutions**: These convolutions have gaps between the kernel elements. This allows the network to cover a larger area of the input sequence with fewer layers compared to standard convolutions. The dilation rate doubles in each subsequent layer in the stack (e.g., 1, 2, 4, 8, ...), exponentially increasing the receptive field.\n",
        "    *   **Causal Padding**: The `padding='causal'` argument ensures that the output at a given time step is only influenced by input elements at the current and previous time steps. This is crucial for autoregressive models where the prediction for the next sample can only depend on past samples.\n",
        "    *   **Gated Activation Units**: Each dilated convolution is followed by a gated activation unit, which is a multiplication of the outputs of two separate dilated convolutions with different activation functions (tanh and sigmoid). This gating mechanism helps the model selectively allow information to pass through, similar to the gates in LSTMs.\n",
        "\n",
        "4.  **Residual Connections**: Residual connections (`Add` layer) are used within each dilated convolutional block. The output of the gated activation unit is added to the input of the block. These connections help in training deeper networks by allowing gradients to flow more easily through the network and prevent vanishing gradients.\n",
        "\n",
        "5.  **Skip Connections**: Skip connections are also used, but they bypass the residual blocks and directly connect the output of each dilated convolutional block (after a 1x1 convolution) to a final output layer. These skip connections contribute to the final prediction by aggregating features from different layers of the network.\n",
        "\n",
        "6.  **Output Layers**:\n",
        "    *   The outputs of all the skip connections are summed up (`Add` layer).\n",
        "    *   This sum is passed through a `ReLU` activation.\n",
        "    *   Two `Conv1D` layers with `kernel_size=1` and `padding='causal'` are applied. These layers serve as the final transformation before the output layer.\n",
        "    *   A final `Conv1D` layer with `kernel_size=1` and `padding='causal'` outputs the logits for each of the `num_quantization_bins`.\n",
        "    *   A `Softmax` activation is applied to the logits to produce a probability distribution over the possible next audio sample values.\n",
        "\n",
        "7.  **Autoregressive Prediction**: For autoregressive generation, the model is designed to predict only the probability distribution for the *last* time step of the input sequence. This prediction is then used to sample the next audio sample, which is then appended to the input sequence for the next prediction step. The model output `y_last = y[:, -1, :]` reflects this, taking only the prediction for the last time step.\n",
        "\n",
        "The model is compiled with the Adam optimizer and `SparseCategoricalCrossentropy` loss, which is suitable for predicting one of the discrete `num_quantization_bins`. The receptive field of the model is determined by the kernel size and the dilation rates, indicating how many previous samples the model considers for each prediction."
      ]
    },
    {
      "cell_type": "code",
      "execution_count": null,
      "metadata": {
        "id": "5QiNRaXS0nHU"
      },
      "outputs": [],
      "source": [
        "def create_wavenet_ar_model(\n",
        "    num_quantization_bins,\n",
        "    dilations=DILATIONS,\n",
        "    residual_channels=RESIDUAL_CHANNELS,\n",
        "    skip_channels=SKIP_CHANNELS,\n",
        "    kernel_size=KERNEL_SIZE,\n",
        "    learning_rate=2e-3,\n",
        "):\n",
        "    # Compute receptive field\n",
        "    receptive_field = 1 + (kernel_size - 1) * sum(dilations)\n",
        "\n",
        "    # Input shape matches the receptive field\n",
        "    input_shape = (receptive_field, 1)\n",
        "    x_in = Input(shape=input_shape, name=\"audio_in\")\n",
        "    x = Conv1D(residual_channels, kernel_size=1, padding='causal', name=\"causal_prep\")(x_in)\n",
        "    skip_outputs = []\n",
        "\n",
        "    for i, d in enumerate(dilations):\n",
        "        filt = Conv1D(residual_channels, kernel_size=kernel_size, dilation_rate=d, padding='causal')(x)\n",
        "        gate = Conv1D(residual_channels, kernel_size=kernel_size, dilation_rate=d, padding='causal')(x)\n",
        "        z = Multiply()([Activation('tanh')(filt), Activation('sigmoid')(gate)])\n",
        "        skip_outputs.append(Conv1D(skip_channels, kernel_size=1, padding='causal')(z))\n",
        "        x = Add()([x, Conv1D(residual_channels, kernel_size=1, padding='causal')(z)])\n",
        "\n",
        "    x = Add()(skip_outputs) if len(skip_outputs) > 1 else skip_outputs[0]\n",
        "    x = ReLU()(x)\n",
        "    x = Conv1D(skip_channels, kernel_size=1, padding='causal')(x)\n",
        "    x = ReLU()(x)\n",
        "    logits = Conv1D(num_quantization_bins, kernel_size=1, padding='causal')(x)\n",
        "    y = Activation('softmax')(logits)\n",
        "\n",
        "    # Only last timestep is used for AR prediction\n",
        "    y_last = y[:, -1, :]\n",
        "    model = Model(inputs=x_in, outputs=y_last, name=\"WaveNet_AR\")\n",
        "    model.compile(optimizer=Adam(learning_rate), loss=SparseCategoricalCrossentropy(), metrics=[])\n",
        "\n",
        "    return (model, receptive_field)\n"
      ]
    },
    {
      "cell_type": "markdown",
      "metadata": {
        "id": "trRSFUZOtoFG"
      },
      "source": [
        "## Initializing the model"
      ]
    },
    {
      "cell_type": "code",
      "execution_count": null,
      "metadata": {
        "colab": {
          "base_uri": "https://localhost:8080/"
        },
        "id": "ZD9z4dLV0yDC",
        "outputId": "0c21d949-151f-4f0b-ea7a-7a854a14754b"
      },
      "outputs": [
        {
          "name": "stdout",
          "output_type": "stream",
          "text": [
            "Use this receptive field for data preprocessing: 64\n"
          ]
        }
      ],
      "source": [
        "# ---------------------------\n",
        "# Initialize model\n",
        "# ---------------------------\n",
        "model, receptive_field = create_wavenet_ar_model(\n",
        "    num_quantization_bins=NUM_QUANTIZATION_BINS,\n",
        ")\n",
        "print(\"Use this receptive field for data preprocessing:\", receptive_field)\n",
        "# model.summary()"
      ]
    },
    {
      "cell_type": "markdown",
      "metadata": {
        "id": "PJ8AivM7tvIE"
      },
      "source": [
        "## Loading and processing the data"
      ]
    },
    {
      "cell_type": "code",
      "execution_count": null,
      "metadata": {
        "colab": {
          "base_uri": "https://localhost:8080/"
        },
        "id": "uvcZigpM07W5",
        "outputId": "3d023e77-8a5e-47e3-a008-40dbb0775d35"
      },
      "outputs": [
        {
          "name": "stdout",
          "output_type": "stream",
          "text": [
            "Loaded and encoded 90 audio files.\n"
          ]
        },
        {
          "name": "stderr",
          "output_type": "stream",
          "text": [
            "100%|██████████| 90/90 [00:06<00:00, 14.07it/s]\n"
          ]
        },
        {
          "name": "stdout",
          "output_type": "stream",
          "text": [
            "Training samples: (100, 64, 1), (100,)\n",
            "Validation samples: (20, 64, 1), (20,)\n"
          ]
        }
      ],
      "source": [
        "# ---------------------------\n",
        "# Load and µ-law preprocess audio\n",
        "# ---------------------------\n",
        "audio_files = [os.path.join(AUDIO_DIR, f) for f in os.listdir(AUDIO_DIR) if f.endswith('.wav')]\n",
        "preprocessed_audio = []\n",
        "\n",
        "for audio_file in tqdm(audio_files, desc=\"Processing data: Load and µ-law\"):\n",
        "    try:\n",
        "        audio, sr = librosa.load(audio_file, sr=None)\n",
        "        if sr != SAMPLE_RATE:\n",
        "            audio = librosa.resample(audio, orig_sr=sr, target_sr=SAMPLE_RATE)\n",
        "        audio = librosa.util.normalize(audio)\n",
        "        encoded_audio = mu_law_encode(audio, quantization_channels=NUM_QUANTIZATION_BINS)\n",
        "        preprocessed_audio.append(encoded_audio)\n",
        "    except Exception as e:\n",
        "        print(f\"Error processing {audio_file}: {e}\")\n",
        "print(f\"Loaded and encoded {len(preprocessed_audio)} audio files.\")\n",
        "\n",
        "# ---------------------------\n",
        "# Generate training samples\n",
        "# ---------------------------\n",
        "X, y = [], []\n",
        "for audio in tqdm(preprocessed_audio, desc=\"Processing data: Extracting samples\"):\n",
        "    if len(audio) < receptive_field + 1:\n",
        "        padding_needed = (receptive_field + 1) - len(audio)\n",
        "        audio = np.pad(audio, (0, padding_needed), mode='constant')\n",
        "    for start in range(0, len(audio) - receptive_field):\n",
        "        end = start + receptive_field\n",
        "        X.append(audio[start:end])\n",
        "        y.append(audio[end])\n",
        "\n",
        "X = np.expand_dims(np.array(X, dtype=np.float32), axis=-1)  # (batch, receptive_field, 1)\n",
        "y = np.array(y, dtype=np.int32).squeeze()                   # (batch,) for SparseCategoricalCrossentropy\n",
        "\n",
        "split_idx = int(len(X) * TRAIN_SPLIT)\n",
        "X_train, X_val = X[:split_idx], X[split_idx:]\n",
        "y_train, y_val = y[:split_idx], y[split_idx:]\n",
        "\n",
        "\n",
        "# X_train = X_train[:100, :, :]\n",
        "# y_train = y_train[:100]\n",
        "\n",
        "# X_val = X_val[:20, :, :]\n",
        "# y_val = y_val[:20]\n",
        "\n",
        "print(f\"Training samples: {X_train.shape}, {y_train.shape}\")\n",
        "print(f\"Validation samples: {X_val.shape}, {y_val.shape}\")"
      ]
    },
    {
      "cell_type": "markdown",
      "metadata": {
        "id": "Z01Fv23OufuG"
      },
      "source": [
        "## Visualizing the training and validating loss during training"
      ]
    },
    {
      "cell_type": "code",
      "execution_count": null,
      "metadata": {
        "id": "3YRolXHi-8Wl"
      },
      "outputs": [],
      "source": [
        "class RealTimeBatchMetrics(Callback):\n",
        "    def __init__(self, update_every=1):\n",
        "        \"\"\"\n",
        "        Args:\n",
        "            update_every: Update plot every `update_every` batches\n",
        "        \"\"\"\n",
        "        super().__init__()\n",
        "        self.update_every = update_every\n",
        "        self.batch_losses = []\n",
        "        self.batch_accuracies = []\n",
        "        self.epoch_losses = []\n",
        "        self.epoch_accuracies = []\n",
        "        self.epoch_val_losses = []\n",
        "        self.epoch_val_accuracies = []\n",
        "\n",
        "    def on_train_batch_end(self, batch, logs=None):\n",
        "        logs = logs or {}\n",
        "        self.batch_losses.append(logs.get('loss'))\n",
        "\n",
        "        if (batch + 1) % self.update_every == 0:\n",
        "            clear_output(wait=True)\n",
        "            plt.figure(figsize=(12, 10))\n",
        "\n",
        "            # Plot Batch Loss\n",
        "            plt.subplot(2, 2, 1)\n",
        "            plt.plot(self.batch_losses, label='Train Loss (Batch)')\n",
        "            plt.xlabel('Batch')\n",
        "            plt.ylabel('Loss')\n",
        "            plt.title('Training Loss (Batch)')\n",
        "            plt.legend()\n",
        "            plt.grid(True)\n",
        "\n",
        "            # Plot Epoch Loss\n",
        "            plt.subplot(2, 2, 2)\n",
        "            plt.plot(self.epoch_losses, label='Train Loss (Epoch)')\n",
        "            plt.plot(self.epoch_val_losses, label='Val Loss (Epoch)')\n",
        "            plt.xlabel('Epoch')\n",
        "            plt.ylabel('Loss')\n",
        "            plt.title('Training & Validation Loss (Epoch)')\n",
        "            plt.legend()\n",
        "            plt.grid(True)\n",
        "\n",
        "\n",
        "\n",
        "            plt.tight_layout()\n",
        "            plt.show()\n",
        "\n",
        "    def on_epoch_end(self, epoch, logs=None):\n",
        "        logs = logs or {}\n",
        "        self.epoch_losses.append(logs.get('loss'))\n",
        "        self.epoch_val_losses.append(logs.get('val_loss'))"
      ]
    },
    {
      "cell_type": "markdown",
      "metadata": {
        "id": "uAAit-l4utCV"
      },
      "source": [
        "## Training the model"
      ]
    },
    {
      "cell_type": "code",
      "execution_count": null,
      "metadata": {
        "colab": {
          "base_uri": "https://localhost:8080/",
          "height": 520
        },
        "id": "rWzKP_nz0-6n",
        "outputId": "2a817621-2df0-41b0-9d03-d3f514ef71e8"
      },
      "outputs": [
        {
          "data": {
            "image/png": "[encoded data removed]",
            "text/plain": [
              "<Figure size 1200x1000 with 2 Axes>"
            ]
          },
          "metadata": {},
          "output_type": "display_data"
        },
        {
          "name": "stdout",
          "output_type": "stream",
          "text": [
            "\u001b[1m4/4\u001b[0m \u001b[32m━━━━━━━━━━━━━━━━━━━━\u001b[0m\u001b[37m\u001b[0m \u001b[1m2s\u001b[0m 481ms/step - loss: 2.2972 - val_loss: 10.5670\n"
          ]
        }
      ],
      "source": [
        "# ---------------------------\n",
        "# Train model\n",
        "# ---------------------------\n",
        "history = model.fit(\n",
        "    X_train, y_train,\n",
        "    validation_data=(X_val, y_val),\n",
        "    epochs=EPOCHS,\n",
        "    batch_size=BATCH_SIZE,\n",
        "    callbacks=[RealTimeBatchMetrics(update_every=1)],\n",
        "    shuffle=True,\n",
        "    verbose=1\n",
        ")"
      ]
    },
    {
      "cell_type": "markdown",
      "metadata": {
        "id": "SYmCRSx-vBcf"
      },
      "source": [
        "## Generating a sample"
      ]
    },
    {
      "cell_type": "code",
      "execution_count": null,
      "metadata": {
        "id": "kzsHvPn21FKv"
      },
      "outputs": [],
      "source": [
        "# ---------------------------\n",
        "# Audio generation\n",
        "# ---------------------------\n",
        "def generate_audio(model, initial_sequence, output_length, quantization_bins=NUM_QUANTIZATION_BINS):\n",
        "    \"\"\"Generate audio autoregressively.\"\"\"\n",
        "    generated = initial_sequence.copy()\n",
        "    for _ in tqdm(range(output_length), desc=\"Generating Sample...\"):\n",
        "        input_seq = generated[:, -receptive_field:, :]\n",
        "        probs = model.predict(input_seq, verbose=0)[0]  # shape: (NUM_QUANTIZATION_BINS,)\n",
        "        sampled_bin = np.random.choice(quantization_bins, p=probs)\n",
        "        sampled_bin = np.array(sampled_bin).reshape(1,1,1)\n",
        "        generated = np.concatenate((generated, sampled_bin), axis=1)\n",
        "    return mu_law_decode(generated[0, initial_sequence.shape[1]:, 0], quantization_channels=quantization_bins)"
      ]
    },
    {
      "cell_type": "markdown",
      "metadata": {
        "id": "UsoMcxpJwTiX"
      },
      "source": [
        "##Generate a Sample from the Current Files\n",
        "\n",
        "If no initial sequence is provided, the code will automatically select a sample and use its beginning portion as the starting sequence."
      ]
    },
    {
      "cell_type": "code",
      "execution_count": null,
      "metadata": {
        "id": "fO2XpMy2vbnO"
      },
      "outputs": [],
      "source": [
        "# ---------------------------\n",
        "# Generate a sample\n",
        "# ---------------------------\n",
        "\n",
        "# Choose a random audio file from the preprocessed audio list\n",
        "random_index = random.randint(0, len(preprocessed_audio) - 1)\n",
        "initial_audio_encoded = preprocessed_audio[random_index]\n",
        "\n",
        "# Ensure the initial sequence is at least receptive_field + 1 long\n",
        "if len(initial_audio_encoded) < receptive_field + 1:\n",
        "    padding_needed = (receptive_field + 1) - len(initial_audio_encoded)\n",
        "    initial_audio_encoded = np.pad(initial_audio_encoded, (0, padding_needed), mode='constant')\n",
        "\n",
        "# Take the first 'receptive_field' samples as the initial sequence for generation\n",
        "initial_sequence_for_generation = initial_audio_encoded[:receptive_field]\n",
        "\n",
        "# Reshape for the model input (batch_size=1, receptive_field, 1)\n",
        "initial_sequence_for_generation = np.expand_dims(np.expand_dims(initial_sequence_for_generation, axis=-1), axis=0)\n",
        "\n",
        "\n",
        "# Define the length of the audio to generate (e.g., 3 seconds)\n",
        "output_length_seconds = 3\n",
        "output_length_samples = output_length_seconds * SAMPLE_RATE\n",
        "\n",
        "# Generate the audio\n",
        "generated_audio = generate_audio(model, initial_sequence_for_generation, output_length_samples, NUM_QUANTIZATION_BINS)\n",
        "\n",
        "# Save the generated audio\n",
        "output_filename = \"generated_sample.wav\"\n",
        "sf.write(output_filename, generated_audio, SAMPLE_RATE)\n",
        "\n",
        "print(f\"Generated audio sample saved as '{output_filename}'\")"
      ]
    }
  ],
  "metadata": {
    "colab": {
      "provenance": []
    },
    "kernelspec": {
      "display_name": ".venv",
      "language": "python",
      "name": "python3"
    },
    "language_info": {
      "codemirror_mode": {
        "name": "ipython",
        "version": 3
      },
      "file_extension": ".py",
      "mimetype": "text/x-python",
      "name": "python",
      "nbconvert_exporter": "python",
      "pygments_lexer": "ipython3",
      "version": "3.11.5"
    }
  },
  "nbformat": 4,
  "nbformat_minor": 0
}
